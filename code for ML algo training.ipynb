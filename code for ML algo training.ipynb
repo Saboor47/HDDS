{
 "cells": [
  {
   "attachments": {},
   "cell_type": "markdown",
   "metadata": {},
   "source": [
    "# Machine Learning\n",
    "This code presents the process carried out to generate the ML models as well as observe their performance."
   ]
  },
  {
   "attachments": {},
   "cell_type": "markdown",
   "metadata": {},
   "source": [
    "### Importing all required libraries"
   ]
  },
  {
   "cell_type": "code",
   "execution_count": 1,
   "metadata": {},
   "outputs": [],
   "source": [
    "import numpy as np\n",
    "import pandas as pd\n",
    "from scipy import stats as st\n",
    "import matplotlib.pyplot as plt\n",
    "import glob\n",
    "import itertools\n",
    "from sklearn.model_selection import cross_val_score"
   ]
  },
  {
   "attachments": {},
   "cell_type": "markdown",
   "metadata": {},
   "source": [
    "## Data Preparation"
   ]
  },
  {
   "attachments": {},
   "cell_type": "markdown",
   "metadata": {},
   "source": [
    "### Loading clean data available in filter data folder"
   ]
  },
  {
   "cell_type": "code",
   "execution_count": 3,
   "metadata": {},
   "outputs": [
    {
     "name": "stdout",
     "output_type": "stream",
     "text": [
      "Total files:  8\n"
     ]
    }
   ],
   "source": [
    "# Specify the event to make a Machine Learning algorithm\n",
    "# TODO: uncomment to select specific event \"sudden-acc\", \"sudden-brake\", \"line-chg\", \"turn\"\n",
    "event_safe = 'safe'\n",
    "# event = 'sudden-acc'\n",
    "# event = 'sudden-brake' \n",
    "# event = 'sudden-left-line' \n",
    "# event = 'sudden-right-line' \n",
    "# event = 'sudden-left-turn' \n",
    "event = 'sudden-right-turn' \n",
    "\n",
    "file_path = './filter_data'\n",
    "\n",
    "files_to_read = glob.glob('{}\\*{}*.csv'.format(file_path, event)) + glob.glob('{}\\*{}*.csv'.format(file_path, event_safe))\n",
    "# Create Dataframe for the event\n",
    "df = pd.DataFrame()\n",
    "i = 0\n",
    "for file in files_to_read[:]:\n",
    "    i += 1\n",
    "    df = pd.concat([df, pd.read_csv(file)])\n",
    "\n",
    "# Number of files for this data\n",
    "print(\"Total files: \", i)"
   ]
  },
  {
   "attachments": {},
   "cell_type": "markdown",
   "metadata": {},
   "source": [
    "Checking the contents of uploaded files"
   ]
  },
  {
   "cell_type": "code",
   "execution_count": 16,
   "metadata": {},
   "outputs": [
    {
     "data": {
      "text/html": [
       "<div>\n",
       "<style scoped>\n",
       "    .dataframe tbody tr th:only-of-type {\n",
       "        vertical-align: middle;\n",
       "    }\n",
       "\n",
       "    .dataframe tbody tr th {\n",
       "        vertical-align: top;\n",
       "    }\n",
       "\n",
       "    .dataframe thead th {\n",
       "        text-align: right;\n",
       "    }\n",
       "</style>\n",
       "<table border=\"1\" class=\"dataframe\">\n",
       "  <thead>\n",
       "    <tr style=\"text-align: right;\">\n",
       "      <th></th>\n",
       "      <th>0</th>\n",
       "      <th>1</th>\n",
       "      <th>2</th>\n",
       "      <th>3</th>\n",
       "      <th>4</th>\n",
       "    </tr>\n",
       "  </thead>\n",
       "  <tbody>\n",
       "    <tr>\n",
       "      <th>sr_no</th>\n",
       "      <td>1</td>\n",
       "      <td>2</td>\n",
       "      <td>3</td>\n",
       "      <td>4</td>\n",
       "      <td>5</td>\n",
       "    </tr>\n",
       "    <tr>\n",
       "      <th>timestamp</th>\n",
       "      <td>20-2-2023_14:51:17:23368</td>\n",
       "      <td>20-2-2023_14:51:17:449670</td>\n",
       "      <td>20-2-2023_14:51:17:460620</td>\n",
       "      <td>20-2-2023_14:51:17:468617</td>\n",
       "      <td>20-2-2023_14:51:17:492618</td>\n",
       "    </tr>\n",
       "    <tr>\n",
       "      <th>road_type</th>\n",
       "      <td>paved</td>\n",
       "      <td>paved</td>\n",
       "      <td>paved</td>\n",
       "      <td>paved</td>\n",
       "      <td>paved</td>\n",
       "    </tr>\n",
       "    <tr>\n",
       "      <th>harsh_event</th>\n",
       "      <td>sudden-acceleration</td>\n",
       "      <td>sudden-acceleration</td>\n",
       "      <td>sudden-acceleration</td>\n",
       "      <td>sudden-acceleration</td>\n",
       "      <td>sudden-acceleration</td>\n",
       "    </tr>\n",
       "    <tr>\n",
       "      <th>acc_x</th>\n",
       "      <td>-1.322198</td>\n",
       "      <td>-1.318977</td>\n",
       "      <td>-1.119628</td>\n",
       "      <td>-1.234793</td>\n",
       "      <td>-1.022769</td>\n",
       "    </tr>\n",
       "    <tr>\n",
       "      <th>acc_y</th>\n",
       "      <td>-2.060521</td>\n",
       "      <td>-2.137586</td>\n",
       "      <td>-2.228347</td>\n",
       "      <td>-1.904228</td>\n",
       "      <td>-1.63704</td>\n",
       "    </tr>\n",
       "    <tr>\n",
       "      <th>acc_z</th>\n",
       "      <td>1.115481</td>\n",
       "      <td>1.21537</td>\n",
       "      <td>0.962362</td>\n",
       "      <td>0.311886</td>\n",
       "      <td>-0.266723</td>\n",
       "    </tr>\n",
       "    <tr>\n",
       "      <th>gyro_x</th>\n",
       "      <td>-0.023505</td>\n",
       "      <td>-0.013133</td>\n",
       "      <td>-0.032336</td>\n",
       "      <td>-0.037588</td>\n",
       "      <td>-0.041135</td>\n",
       "    </tr>\n",
       "    <tr>\n",
       "      <th>gyro_y</th>\n",
       "      <td>0.000791</td>\n",
       "      <td>-0.006419</td>\n",
       "      <td>-0.005758</td>\n",
       "      <td>0.001407</td>\n",
       "      <td>0.000697</td>\n",
       "    </tr>\n",
       "    <tr>\n",
       "      <th>gyro_z</th>\n",
       "      <td>-0.014409</td>\n",
       "      <td>-0.012537</td>\n",
       "      <td>-0.017971</td>\n",
       "      <td>-0.020532</td>\n",
       "      <td>-0.02033</td>\n",
       "    </tr>\n",
       "    <tr>\n",
       "      <th>mag_x</th>\n",
       "      <td>0.222223</td>\n",
       "      <td>0.222223</td>\n",
       "      <td>0.222223</td>\n",
       "      <td>0.222223</td>\n",
       "      <td>0.333332</td>\n",
       "    </tr>\n",
       "    <tr>\n",
       "      <th>mag_y</th>\n",
       "      <td>0.5</td>\n",
       "      <td>0.5</td>\n",
       "      <td>0.5</td>\n",
       "      <td>0.5</td>\n",
       "      <td>0.833333</td>\n",
       "    </tr>\n",
       "    <tr>\n",
       "      <th>mag_z</th>\n",
       "      <td>0.428572</td>\n",
       "      <td>0.428572</td>\n",
       "      <td>0.714286</td>\n",
       "      <td>0.714286</td>\n",
       "      <td>0.714286</td>\n",
       "    </tr>\n",
       "    <tr>\n",
       "      <th>event_class</th>\n",
       "      <td>0</td>\n",
       "      <td>0</td>\n",
       "      <td>0</td>\n",
       "      <td>0</td>\n",
       "      <td>0</td>\n",
       "    </tr>\n",
       "  </tbody>\n",
       "</table>\n",
       "</div>"
      ],
      "text/plain": [
       "                                    0                          1  \\\n",
       "sr_no                               1                          2   \n",
       "timestamp    20-2-2023_14:51:17:23368  20-2-2023_14:51:17:449670   \n",
       "road_type                       paved                      paved   \n",
       "harsh_event       sudden-acceleration        sudden-acceleration   \n",
       "acc_x                       -1.322198                  -1.318977   \n",
       "acc_y                       -2.060521                  -2.137586   \n",
       "acc_z                        1.115481                    1.21537   \n",
       "gyro_x                      -0.023505                  -0.013133   \n",
       "gyro_y                       0.000791                  -0.006419   \n",
       "gyro_z                      -0.014409                  -0.012537   \n",
       "mag_x                        0.222223                   0.222223   \n",
       "mag_y                             0.5                        0.5   \n",
       "mag_z                        0.428572                   0.428572   \n",
       "event_class                         0                          0   \n",
       "\n",
       "                                     2                          3  \\\n",
       "sr_no                                3                          4   \n",
       "timestamp    20-2-2023_14:51:17:460620  20-2-2023_14:51:17:468617   \n",
       "road_type                        paved                      paved   \n",
       "harsh_event        sudden-acceleration        sudden-acceleration   \n",
       "acc_x                        -1.119628                  -1.234793   \n",
       "acc_y                        -2.228347                  -1.904228   \n",
       "acc_z                         0.962362                   0.311886   \n",
       "gyro_x                       -0.032336                  -0.037588   \n",
       "gyro_y                       -0.005758                   0.001407   \n",
       "gyro_z                       -0.017971                  -0.020532   \n",
       "mag_x                         0.222223                   0.222223   \n",
       "mag_y                              0.5                        0.5   \n",
       "mag_z                         0.714286                   0.714286   \n",
       "event_class                          0                          0   \n",
       "\n",
       "                                     4  \n",
       "sr_no                                5  \n",
       "timestamp    20-2-2023_14:51:17:492618  \n",
       "road_type                        paved  \n",
       "harsh_event        sudden-acceleration  \n",
       "acc_x                        -1.022769  \n",
       "acc_y                         -1.63704  \n",
       "acc_z                        -0.266723  \n",
       "gyro_x                       -0.041135  \n",
       "gyro_y                        0.000697  \n",
       "gyro_z                        -0.02033  \n",
       "mag_x                         0.333332  \n",
       "mag_y                         0.833333  \n",
       "mag_z                         0.714286  \n",
       "event_class                          0  "
      ]
     },
     "execution_count": 16,
     "metadata": {},
     "output_type": "execute_result"
    }
   ],
   "source": [
    "# Show dataframe\n",
    "df.head().transpose()"
   ]
  },
  {
   "cell_type": "code",
   "execution_count": 17,
   "metadata": {},
   "outputs": [
    {
     "data": {
      "text/html": [
       "<div>\n",
       "<style scoped>\n",
       "    .dataframe tbody tr th:only-of-type {\n",
       "        vertical-align: middle;\n",
       "    }\n",
       "\n",
       "    .dataframe tbody tr th {\n",
       "        vertical-align: top;\n",
       "    }\n",
       "\n",
       "    .dataframe thead th {\n",
       "        text-align: right;\n",
       "    }\n",
       "</style>\n",
       "<table border=\"1\" class=\"dataframe\">\n",
       "  <thead>\n",
       "    <tr style=\"text-align: right;\">\n",
       "      <th></th>\n",
       "      <th>count</th>\n",
       "      <th>mean</th>\n",
       "      <th>std</th>\n",
       "      <th>min</th>\n",
       "      <th>25%</th>\n",
       "      <th>50%</th>\n",
       "      <th>75%</th>\n",
       "      <th>max</th>\n",
       "    </tr>\n",
       "  </thead>\n",
       "  <tbody>\n",
       "    <tr>\n",
       "      <th>sr_no</th>\n",
       "      <td>11229.0</td>\n",
       "      <td>430.488735</td>\n",
       "      <td>352.381027</td>\n",
       "      <td>1.000000</td>\n",
       "      <td>166.000000</td>\n",
       "      <td>332.000000</td>\n",
       "      <td>608.000000</td>\n",
       "      <td>1648.000000</td>\n",
       "    </tr>\n",
       "    <tr>\n",
       "      <th>acc_x</th>\n",
       "      <td>11229.0</td>\n",
       "      <td>-0.338375</td>\n",
       "      <td>0.957277</td>\n",
       "      <td>-12.285364</td>\n",
       "      <td>-0.821664</td>\n",
       "      <td>-0.357365</td>\n",
       "      <td>0.164841</td>\n",
       "      <td>9.329324</td>\n",
       "    </tr>\n",
       "    <tr>\n",
       "      <th>acc_y</th>\n",
       "      <td>11229.0</td>\n",
       "      <td>-0.630757</td>\n",
       "      <td>1.387034</td>\n",
       "      <td>-11.102222</td>\n",
       "      <td>-1.390381</td>\n",
       "      <td>-0.647464</td>\n",
       "      <td>0.208900</td>\n",
       "      <td>6.126020</td>\n",
       "    </tr>\n",
       "    <tr>\n",
       "      <th>acc_z</th>\n",
       "      <td>11229.0</td>\n",
       "      <td>-0.292454</td>\n",
       "      <td>1.609527</td>\n",
       "      <td>-15.003558</td>\n",
       "      <td>-1.165189</td>\n",
       "      <td>-0.349661</td>\n",
       "      <td>0.598953</td>\n",
       "      <td>12.923087</td>\n",
       "    </tr>\n",
       "    <tr>\n",
       "      <th>gyro_x</th>\n",
       "      <td>11229.0</td>\n",
       "      <td>-0.047079</td>\n",
       "      <td>0.041122</td>\n",
       "      <td>-0.403313</td>\n",
       "      <td>-0.070330</td>\n",
       "      <td>-0.046429</td>\n",
       "      <td>-0.023384</td>\n",
       "      <td>0.262760</td>\n",
       "    </tr>\n",
       "    <tr>\n",
       "      <th>gyro_y</th>\n",
       "      <td>11229.0</td>\n",
       "      <td>0.003761</td>\n",
       "      <td>0.047013</td>\n",
       "      <td>-0.275878</td>\n",
       "      <td>-0.019854</td>\n",
       "      <td>0.002975</td>\n",
       "      <td>0.027863</td>\n",
       "      <td>0.440760</td>\n",
       "    </tr>\n",
       "    <tr>\n",
       "      <th>gyro_z</th>\n",
       "      <td>11229.0</td>\n",
       "      <td>0.003195</td>\n",
       "      <td>0.014383</td>\n",
       "      <td>-0.105918</td>\n",
       "      <td>-0.004493</td>\n",
       "      <td>0.002324</td>\n",
       "      <td>0.010904</td>\n",
       "      <td>0.189433</td>\n",
       "    </tr>\n",
       "    <tr>\n",
       "      <th>mag_x</th>\n",
       "      <td>11229.0</td>\n",
       "      <td>0.493220</td>\n",
       "      <td>0.189992</td>\n",
       "      <td>0.000000</td>\n",
       "      <td>0.363636</td>\n",
       "      <td>0.500000</td>\n",
       "      <td>0.625000</td>\n",
       "      <td>1.000000</td>\n",
       "    </tr>\n",
       "    <tr>\n",
       "      <th>mag_y</th>\n",
       "      <td>11229.0</td>\n",
       "      <td>0.502626</td>\n",
       "      <td>0.185034</td>\n",
       "      <td>0.000000</td>\n",
       "      <td>0.400000</td>\n",
       "      <td>0.500000</td>\n",
       "      <td>0.600000</td>\n",
       "      <td>1.000000</td>\n",
       "    </tr>\n",
       "    <tr>\n",
       "      <th>mag_z</th>\n",
       "      <td>11229.0</td>\n",
       "      <td>0.504146</td>\n",
       "      <td>0.178833</td>\n",
       "      <td>0.000000</td>\n",
       "      <td>0.375000</td>\n",
       "      <td>0.500000</td>\n",
       "      <td>0.625000</td>\n",
       "      <td>1.000000</td>\n",
       "    </tr>\n",
       "    <tr>\n",
       "      <th>event_class</th>\n",
       "      <td>11229.0</td>\n",
       "      <td>0.254698</td>\n",
       "      <td>0.435711</td>\n",
       "      <td>0.000000</td>\n",
       "      <td>0.000000</td>\n",
       "      <td>0.000000</td>\n",
       "      <td>1.000000</td>\n",
       "      <td>1.000000</td>\n",
       "    </tr>\n",
       "  </tbody>\n",
       "</table>\n",
       "</div>"
      ],
      "text/plain": [
       "               count        mean         std        min         25%  \\\n",
       "sr_no        11229.0  430.488735  352.381027   1.000000  166.000000   \n",
       "acc_x        11229.0   -0.338375    0.957277 -12.285364   -0.821664   \n",
       "acc_y        11229.0   -0.630757    1.387034 -11.102222   -1.390381   \n",
       "acc_z        11229.0   -0.292454    1.609527 -15.003558   -1.165189   \n",
       "gyro_x       11229.0   -0.047079    0.041122  -0.403313   -0.070330   \n",
       "gyro_y       11229.0    0.003761    0.047013  -0.275878   -0.019854   \n",
       "gyro_z       11229.0    0.003195    0.014383  -0.105918   -0.004493   \n",
       "mag_x        11229.0    0.493220    0.189992   0.000000    0.363636   \n",
       "mag_y        11229.0    0.502626    0.185034   0.000000    0.400000   \n",
       "mag_z        11229.0    0.504146    0.178833   0.000000    0.375000   \n",
       "event_class  11229.0    0.254698    0.435711   0.000000    0.000000   \n",
       "\n",
       "                    50%         75%          max  \n",
       "sr_no        332.000000  608.000000  1648.000000  \n",
       "acc_x         -0.357365    0.164841     9.329324  \n",
       "acc_y         -0.647464    0.208900     6.126020  \n",
       "acc_z         -0.349661    0.598953    12.923087  \n",
       "gyro_x        -0.046429   -0.023384     0.262760  \n",
       "gyro_y         0.002975    0.027863     0.440760  \n",
       "gyro_z         0.002324    0.010904     0.189433  \n",
       "mag_x          0.500000    0.625000     1.000000  \n",
       "mag_y          0.500000    0.600000     1.000000  \n",
       "mag_z          0.500000    0.625000     1.000000  \n",
       "event_class    0.000000    1.000000     1.000000  "
      ]
     },
     "execution_count": 17,
     "metadata": {},
     "output_type": "execute_result"
    }
   ],
   "source": [
    "df.describe().transpose()"
   ]
  },
  {
   "cell_type": "code",
   "execution_count": 4,
   "metadata": {},
   "outputs": [
    {
     "name": "stdout",
     "output_type": "stream",
     "text": [
      "All data size:  (6326, 14)\n",
      "There are 6326 observations in the sudden-right-turn driving dataset.\n",
      "There are 14 variables in the dataset.\n",
      "Harsh drive event data size:  (582,)\n",
      "Safe drive event data size:  (5744,)\n"
     ]
    }
   ],
   "source": [
    "# Check data\n",
    "print(\"All data size: \", df.shape)\n",
    "print(\"There are \" + str(len(df)) + \" observations in the \" + event + \" driving dataset.\")\n",
    "print(\"There are \" + str(len(df.columns)) + \" variables in the dataset.\")\n",
    "print(\"Harsh drive event data size: \", df[\"event_class\"][df[\"event_class\"] == 1].shape)\n",
    "print(\"Safe drive event data size: \", df[\"event_class\"][df[\"event_class\"] == 0].shape)"
   ]
  },
  {
   "cell_type": "code",
   "execution_count": 5,
   "metadata": {},
   "outputs": [
    {
     "data": {
      "text/plain": [
       "array([0, 1], dtype=int64)"
      ]
     },
     "execution_count": 5,
     "metadata": {},
     "output_type": "execute_result"
    }
   ],
   "source": [
    "#Get the set of distinct classes\n",
    "labels = df.event_class.unique()\n",
    "labels"
   ]
  },
  {
   "cell_type": "code",
   "execution_count": 6,
   "metadata": {},
   "outputs": [
    {
     "data": {
      "text/plain": [
       "array([5744,  582], dtype=int64)"
      ]
     },
     "execution_count": 6,
     "metadata": {},
     "output_type": "execute_result"
    }
   ],
   "source": [
    "#Get the count of each class\n",
    "sizes = df.event_class.value_counts().values\n",
    "sizes"
   ]
  },
  {
   "cell_type": "code",
   "execution_count": 7,
   "metadata": {},
   "outputs": [
    {
     "data": {
      "image/png": "[encoded data removed]",
      "text/plain": [
       "<Figure size 640x480 with 1 Axes>"
      ]
     },
     "metadata": {},
     "output_type": "display_data"
    }
   ],
   "source": [
    "# plot the class value counts\n",
    "label = {'Safe' : labels[0], 'Harsh': labels[1]}\n",
    "fig, ax = plt.subplots()\n",
    "ax.pie(sizes, labels=label, autopct='%1.2f%%')\n",
    "ax.set_title(\"Target variable value count of driving event\")\n",
    "plt.show()"
   ]
  },
  {
   "cell_type": "markdown",
   "metadata": {},
   "source": [
    "## Feature selection process"
   ]
  },
  {
   "cell_type": "code",
   "execution_count": 8,
   "metadata": {},
   "outputs": [
    {
     "name": "stdout",
     "output_type": "stream",
     "text": [
      "All data shape for the selected features:  (6326, 7)\n"
     ]
    }
   ],
   "source": [
    "# TODO: uncomment the code regarding the type of event to execute\n",
    "\n",
    "# total_features = [\"timestamp\",\"acc_x\",\"acc_y\",\"acc_z\",\"gyro_x\",\"gyro_y\",\"gyro_z\",\"mag_x\",\"mag_y\",\"mag_z\",\"event_class\"]\n",
    "# event_features = [\"acc_y\"] # fro Sudden Acceleration and Sudden Braking \n",
    "# event_features = [\"acc_x\", \"gyro_z\"] # for Sudden left and right line change\n",
    "event_features = [\"acc_x\" ,\"acc_y\", \"gyro_z\", \"mag_x\", \"mag_y\"] # for Sudden left and right turn \n",
    "\n",
    "# Features selection\n",
    "event_features_label = [\"sr_no\", *event_features,  \"event_class\"]\n",
    "dataset = df[event_features_label].to_numpy()\n",
    "print(\"All data shape for the selected features: \",dataset.shape)"
   ]
  },
  {
   "cell_type": "markdown",
   "metadata": {},
   "source": [
    "## Sliding window process"
   ]
  },
  {
   "cell_type": "code",
   "execution_count": 9,
   "metadata": {},
   "outputs": [
    {
     "name": "stdout",
     "output_type": "stream",
     "text": [
      "\n",
      "Size of feature_data used in Sliding window processing\n",
      "Data: 6277, Features: 5, Window size: 50\n",
      "\n",
      "Final size of Sliding window features after processing\n",
      "Data: 6277, Features: 30\n",
      "\n",
      "30 features generated after sliding window process\n",
      " ['mean_acc_x', 'mean_acc_y', 'mean_gyro_z', 'mean_mag_x', 'mean_mag_y', 'median_acc_x', 'median_acc_y', 'median_gyro_z', 'median_mag_x', 'median_mag_y', 'std_acc_x', 'std_acc_y', 'std_gyro_z', 'std_mag_x', 'std_mag_y', 'max_val_acc_x', 'max_val_acc_y', 'max_val_gyro_z', 'max_val_mag_x', 'max_val_mag_y', 'min_val_acc_x', 'min_val_acc_y', 'min_val_gyro_z', 'min_val_mag_x', 'min_val_mag_y', 'trend_acc_x', 'trend_acc_y', 'trend_gyro_z', 'trend_mag_x', 'trend_mag_y']\n"
     ]
    }
   ],
   "source": [
    "def sliding_windows(dataset, window_size = 10, event_features=\"X\"):\n",
    "    \"\"\"Create a sliding window with a defined window size and return the calculation for each record inside the sliding window.\n",
    "\n",
    "    The calculations made are for each time window: \n",
    "    - The mean.\n",
    "    - The median.\n",
    "    - The standard deviation.\n",
    "    - The maximum and minimum value.\n",
    "    - The trend.\n",
    "\n",
    "    Args:\n",
    "        dataset (numpy.array): An array with the data taken on a vehicle trip, \n",
    "        composed for rows: dataset registers and columns: first data index, and subsequent dataset event features.\n",
    "        window_size (int, optional): number Number of registers contained in the time window. Defaults to 10.\n",
    "        event_features (str, optional): _description_. Defaults to \"X\".\n",
    "\n",
    "    Returns:\n",
    "        tuple: A tuple structured like this: (sliding window id, sliding window featured data, sliding window label data, features name)\n",
    "    \"\"\"\n",
    "    sld_window = np.lib.stride_tricks.sliding_window_view(dataset, window_size, axis=0) #[::1, :] Add this for define window step\n",
    "    # print(f\"\\nSize of Sliding windows\\nData: {sld_window.shape[0]}, Features: {sld_window.shape[1]}, Window size: {sld_window.shape[2]}\")\n",
    "\n",
    "    # Splitting in dataset id data having all rows, only sr_id column, and window size\n",
    "    id = sld_window[:,0:1,:]\n",
    "    # Get the id of first window and last window, vary with window size\n",
    "    sld_window_id = np.concatenate((id[:,:,0], id[:,:,-1]), axis=1) \n",
    "\n",
    "    # Splitting the dataset (features, label)\n",
    "    separator = dataset.shape[1] - 1 # Removing the last column corresponding to the event_class \n",
    "    features_data = sld_window[:, 1:separator, :] # All rows, feature columns, and sliding window size\n",
    "    print(f\"\\nSize of feature_data used in Sliding window processing\\nData: {features_data.shape[0]}, Features: {features_data.shape[1]}, Window size: {features_data.shape[2]}\")\n",
    "    label_data = sld_window[:, separator, :] # Get the labels of the data in every sliding window\n",
    "\n",
    "    # Processing the sliding window\n",
    "    # Get the mean, median, std, max and min value\n",
    "    mean = features_data.mean(axis = 2)\n",
    "    median = np.median(features_data, axis = 2)\n",
    "    std = features_data.std(axis = 2)\n",
    "    max_val = features_data.max(axis = 2)\n",
    "    min_val = features_data.min(axis = 2)\n",
    "    # Get tendency, which is the current value divided by the previous value.\n",
    "    # Taking the mean value of the first record in the sliding window and all previous mean values.\n",
    "    divider = np.array([mean[0], *mean[:-1]])\n",
    "    # Dividing the mean array by the divider array. \n",
    "    trend = mean/np.where(divider == 0, 1, divider) # Replace any zero value in the divider array with 1.\n",
    "    label = st.mode(label_data, axis = 1, keepdims = True)[0]\n",
    "\n",
    "    # Concatenate processed sliding window\n",
    "    sld_window_features = np.concatenate((mean, median, std, max_val, min_val, trend), axis=1)\n",
    "    print(f\"\\nFinal size of Sliding window features after processing\\nData: {sld_window_features.shape[0]}, Features: {sld_window_features.shape[1]}\")\n",
    "\n",
    "    # Reshape label for sklearn standard\n",
    "    label = label.reshape(label.shape[0])\n",
    "    # print(label.shape)\n",
    "\n",
    "    # Make the features names\n",
    "    e_n = len(event_features) # Events number\n",
    "    measurements_names = [[\"mean\"]*e_n, [\"median\"]*e_n, [\"std\"]*e_n, [\"max_val\"]*e_n, [\"min_val\"]*e_n, [\"trend\"]*e_n]\n",
    "    measurements_names = list(itertools.chain(*measurements_names))\n",
    "    events_names = event_features*(len(measurements_names)//e_n)\n",
    "\n",
    "    sld_window_features_names = list(map('_'.join, zip(measurements_names, events_names)))\n",
    "    print(f\"\\n{sld_window_features.shape[1]} features generated after sliding window process\\n\",sld_window_features_names)\n",
    "\n",
    "    return (sld_window_id, sld_window_features, label, sld_window_features_names)\n",
    "\n",
    "# TODO: Define windows size\n",
    "window_size = 50\n",
    "\n",
    "# Do the feature extraction process\n",
    "ids, features, target, features_names = sliding_windows(dataset, window_size, event_features)\n"
   ]
  },
  {
   "attachments": {},
   "cell_type": "markdown",
   "metadata": {},
   "source": [
    "Checking feature dataframe"
   ]
  },
  {
   "cell_type": "code",
   "execution_count": 10,
   "metadata": {},
   "outputs": [
    {
     "name": "stdout",
     "output_type": "stream",
     "text": [
      "Features shape: (6277, 30)\n",
      "\n",
      "Features size for harsh drive event:  (578,)\n",
      "Features size for safe drive event:  (5699,)\n",
      "\n",
      "Sample of features: \n"
     ]
    },
    {
     "data": {
      "text/html": [
       "<div>\n",
       "<style scoped>\n",
       "    .dataframe tbody tr th:only-of-type {\n",
       "        vertical-align: middle;\n",
       "    }\n",
       "\n",
       "    .dataframe tbody tr th {\n",
       "        vertical-align: top;\n",
       "    }\n",
       "\n",
       "    .dataframe thead th {\n",
       "        text-align: right;\n",
       "    }\n",
       "</style>\n",
       "<table border=\"1\" class=\"dataframe\">\n",
       "  <thead>\n",
       "    <tr style=\"text-align: right;\">\n",
       "      <th></th>\n",
       "      <th></th>\n",
       "      <th>mean_acc_x</th>\n",
       "      <th>mean_acc_y</th>\n",
       "      <th>mean_gyro_z</th>\n",
       "      <th>mean_mag_x</th>\n",
       "      <th>mean_mag_y</th>\n",
       "      <th>median_acc_x</th>\n",
       "      <th>median_acc_y</th>\n",
       "      <th>median_gyro_z</th>\n",
       "      <th>median_mag_x</th>\n",
       "      <th>median_mag_y</th>\n",
       "      <th>...</th>\n",
       "      <th>min_val_acc_x</th>\n",
       "      <th>min_val_acc_y</th>\n",
       "      <th>min_val_gyro_z</th>\n",
       "      <th>min_val_mag_x</th>\n",
       "      <th>min_val_mag_y</th>\n",
       "      <th>trend_acc_x</th>\n",
       "      <th>trend_acc_y</th>\n",
       "      <th>trend_gyro_z</th>\n",
       "      <th>trend_mag_x</th>\n",
       "      <th>trend_mag_y</th>\n",
       "    </tr>\n",
       "    <tr>\n",
       "      <th>first_id</th>\n",
       "      <th>last_id</th>\n",
       "      <th></th>\n",
       "      <th></th>\n",
       "      <th></th>\n",
       "      <th></th>\n",
       "      <th></th>\n",
       "      <th></th>\n",
       "      <th></th>\n",
       "      <th></th>\n",
       "      <th></th>\n",
       "      <th></th>\n",
       "      <th></th>\n",
       "      <th></th>\n",
       "      <th></th>\n",
       "      <th></th>\n",
       "      <th></th>\n",
       "      <th></th>\n",
       "      <th></th>\n",
       "      <th></th>\n",
       "      <th></th>\n",
       "      <th></th>\n",
       "      <th></th>\n",
       "    </tr>\n",
       "  </thead>\n",
       "  <tbody>\n",
       "    <tr>\n",
       "      <th>1.0</th>\n",
       "      <th>50.0</th>\n",
       "      <td>-0.640745</td>\n",
       "      <td>-0.705491</td>\n",
       "      <td>-0.007221</td>\n",
       "      <td>0.668800</td>\n",
       "      <td>0.954146</td>\n",
       "      <td>-0.543213</td>\n",
       "      <td>-0.600133</td>\n",
       "      <td>-0.000616</td>\n",
       "      <td>0.680000</td>\n",
       "      <td>0.951220</td>\n",
       "      <td>...</td>\n",
       "      <td>-1.867640</td>\n",
       "      <td>-2.067851</td>\n",
       "      <td>-0.226494</td>\n",
       "      <td>0.560000</td>\n",
       "      <td>0.878049</td>\n",
       "      <td>1.000000</td>\n",
       "      <td>1.000000</td>\n",
       "      <td>1.000000</td>\n",
       "      <td>1.000000</td>\n",
       "      <td>1.000000</td>\n",
       "    </tr>\n",
       "    <tr>\n",
       "      <th>2.0</th>\n",
       "      <th>51.0</th>\n",
       "      <td>-0.647641</td>\n",
       "      <td>-0.694470</td>\n",
       "      <td>-0.007403</td>\n",
       "      <td>0.672000</td>\n",
       "      <td>0.952683</td>\n",
       "      <td>-0.543213</td>\n",
       "      <td>-0.600133</td>\n",
       "      <td>-0.000842</td>\n",
       "      <td>0.680000</td>\n",
       "      <td>0.951220</td>\n",
       "      <td>...</td>\n",
       "      <td>-1.867640</td>\n",
       "      <td>-2.067851</td>\n",
       "      <td>-0.226494</td>\n",
       "      <td>0.560000</td>\n",
       "      <td>0.878049</td>\n",
       "      <td>1.010762</td>\n",
       "      <td>0.984378</td>\n",
       "      <td>1.025261</td>\n",
       "      <td>1.004785</td>\n",
       "      <td>0.998466</td>\n",
       "    </tr>\n",
       "    <tr>\n",
       "      <th>3.0</th>\n",
       "      <th>52.0</th>\n",
       "      <td>-0.654344</td>\n",
       "      <td>-0.681171</td>\n",
       "      <td>-0.007581</td>\n",
       "      <td>0.675200</td>\n",
       "      <td>0.951220</td>\n",
       "      <td>-0.552770</td>\n",
       "      <td>-0.600133</td>\n",
       "      <td>-0.001136</td>\n",
       "      <td>0.680000</td>\n",
       "      <td>0.951220</td>\n",
       "      <td>...</td>\n",
       "      <td>-1.867640</td>\n",
       "      <td>-2.067851</td>\n",
       "      <td>-0.226494</td>\n",
       "      <td>0.600000</td>\n",
       "      <td>0.878049</td>\n",
       "      <td>1.010350</td>\n",
       "      <td>0.980850</td>\n",
       "      <td>1.023994</td>\n",
       "      <td>1.004762</td>\n",
       "      <td>0.998464</td>\n",
       "    </tr>\n",
       "    <tr>\n",
       "      <th>4.0</th>\n",
       "      <th>53.0</th>\n",
       "      <td>-0.669250</td>\n",
       "      <td>-0.660309</td>\n",
       "      <td>-0.007687</td>\n",
       "      <td>0.676000</td>\n",
       "      <td>0.951707</td>\n",
       "      <td>-0.569796</td>\n",
       "      <td>-0.600133</td>\n",
       "      <td>-0.001274</td>\n",
       "      <td>0.680000</td>\n",
       "      <td>0.951220</td>\n",
       "      <td>...</td>\n",
       "      <td>-1.867640</td>\n",
       "      <td>-2.067851</td>\n",
       "      <td>-0.226494</td>\n",
       "      <td>0.600000</td>\n",
       "      <td>0.878049</td>\n",
       "      <td>1.022781</td>\n",
       "      <td>0.969373</td>\n",
       "      <td>1.014000</td>\n",
       "      <td>1.001185</td>\n",
       "      <td>1.000513</td>\n",
       "    </tr>\n",
       "    <tr>\n",
       "      <th>5.0</th>\n",
       "      <th>54.0</th>\n",
       "      <td>-0.689476</td>\n",
       "      <td>-0.630256</td>\n",
       "      <td>-0.007829</td>\n",
       "      <td>0.676800</td>\n",
       "      <td>0.952195</td>\n",
       "      <td>-0.598368</td>\n",
       "      <td>-0.600133</td>\n",
       "      <td>-0.001274</td>\n",
       "      <td>0.680000</td>\n",
       "      <td>0.951220</td>\n",
       "      <td>...</td>\n",
       "      <td>-1.867640</td>\n",
       "      <td>-2.067851</td>\n",
       "      <td>-0.226494</td>\n",
       "      <td>0.600000</td>\n",
       "      <td>0.878049</td>\n",
       "      <td>1.030222</td>\n",
       "      <td>0.954486</td>\n",
       "      <td>1.018433</td>\n",
       "      <td>1.001183</td>\n",
       "      <td>1.000513</td>\n",
       "    </tr>\n",
       "    <tr>\n",
       "      <th>...</th>\n",
       "      <th>...</th>\n",
       "      <td>...</td>\n",
       "      <td>...</td>\n",
       "      <td>...</td>\n",
       "      <td>...</td>\n",
       "      <td>...</td>\n",
       "      <td>...</td>\n",
       "      <td>...</td>\n",
       "      <td>...</td>\n",
       "      <td>...</td>\n",
       "      <td>...</td>\n",
       "      <td>...</td>\n",
       "      <td>...</td>\n",
       "      <td>...</td>\n",
       "      <td>...</td>\n",
       "      <td>...</td>\n",
       "      <td>...</td>\n",
       "      <td>...</td>\n",
       "      <td>...</td>\n",
       "      <td>...</td>\n",
       "      <td>...</td>\n",
       "      <td>...</td>\n",
       "    </tr>\n",
       "    <tr>\n",
       "      <th>430.0</th>\n",
       "      <th>479.0</th>\n",
       "      <td>-0.552293</td>\n",
       "      <td>-0.891569</td>\n",
       "      <td>-0.000079</td>\n",
       "      <td>0.637778</td>\n",
       "      <td>0.382222</td>\n",
       "      <td>-0.542936</td>\n",
       "      <td>-0.894916</td>\n",
       "      <td>-0.000063</td>\n",
       "      <td>0.666667</td>\n",
       "      <td>0.444444</td>\n",
       "      <td>...</td>\n",
       "      <td>-0.666652</td>\n",
       "      <td>-1.127032</td>\n",
       "      <td>-0.002043</td>\n",
       "      <td>0.333333</td>\n",
       "      <td>0.000000</td>\n",
       "      <td>1.000196</td>\n",
       "      <td>1.001681</td>\n",
       "      <td>0.946534</td>\n",
       "      <td>1.010563</td>\n",
       "      <td>0.988506</td>\n",
       "    </tr>\n",
       "    <tr>\n",
       "      <th>431.0</th>\n",
       "      <th>480.0</th>\n",
       "      <td>-0.550996</td>\n",
       "      <td>-0.888858</td>\n",
       "      <td>-0.000032</td>\n",
       "      <td>0.644445</td>\n",
       "      <td>0.377778</td>\n",
       "      <td>-0.541516</td>\n",
       "      <td>-0.894916</td>\n",
       "      <td>0.000012</td>\n",
       "      <td>0.666667</td>\n",
       "      <td>0.444444</td>\n",
       "      <td>...</td>\n",
       "      <td>-0.666652</td>\n",
       "      <td>-1.127032</td>\n",
       "      <td>-0.002043</td>\n",
       "      <td>0.333333</td>\n",
       "      <td>0.000000</td>\n",
       "      <td>0.997653</td>\n",
       "      <td>0.996959</td>\n",
       "      <td>0.400440</td>\n",
       "      <td>1.010453</td>\n",
       "      <td>0.988372</td>\n",
       "    </tr>\n",
       "    <tr>\n",
       "      <th>432.0</th>\n",
       "      <th>481.0</th>\n",
       "      <td>-0.552667</td>\n",
       "      <td>-0.884182</td>\n",
       "      <td>-0.000005</td>\n",
       "      <td>0.648889</td>\n",
       "      <td>0.384444</td>\n",
       "      <td>-0.541516</td>\n",
       "      <td>-0.893822</td>\n",
       "      <td>0.000012</td>\n",
       "      <td>0.666667</td>\n",
       "      <td>0.444444</td>\n",
       "      <td>...</td>\n",
       "      <td>-0.666652</td>\n",
       "      <td>-1.037134</td>\n",
       "      <td>-0.002043</td>\n",
       "      <td>0.333333</td>\n",
       "      <td>0.000000</td>\n",
       "      <td>1.003032</td>\n",
       "      <td>0.994740</td>\n",
       "      <td>0.166022</td>\n",
       "      <td>1.006897</td>\n",
       "      <td>1.017647</td>\n",
       "    </tr>\n",
       "    <tr>\n",
       "      <th>433.0</th>\n",
       "      <th>482.0</th>\n",
       "      <td>-0.552436</td>\n",
       "      <td>-0.882509</td>\n",
       "      <td>0.000007</td>\n",
       "      <td>0.653334</td>\n",
       "      <td>0.391111</td>\n",
       "      <td>-0.541516</td>\n",
       "      <td>-0.893822</td>\n",
       "      <td>0.000012</td>\n",
       "      <td>0.666667</td>\n",
       "      <td>0.444444</td>\n",
       "      <td>...</td>\n",
       "      <td>-0.666652</td>\n",
       "      <td>-0.963078</td>\n",
       "      <td>-0.002043</td>\n",
       "      <td>0.333333</td>\n",
       "      <td>0.000000</td>\n",
       "      <td>0.999582</td>\n",
       "      <td>0.998108</td>\n",
       "      <td>-1.346381</td>\n",
       "      <td>1.006849</td>\n",
       "      <td>1.017341</td>\n",
       "    </tr>\n",
       "    <tr>\n",
       "      <th>434.0</th>\n",
       "      <th>483.0</th>\n",
       "      <td>-0.554250</td>\n",
       "      <td>-0.883599</td>\n",
       "      <td>0.000022</td>\n",
       "      <td>0.653334</td>\n",
       "      <td>0.386666</td>\n",
       "      <td>-0.541516</td>\n",
       "      <td>-0.894916</td>\n",
       "      <td>0.000012</td>\n",
       "      <td>0.666667</td>\n",
       "      <td>0.444444</td>\n",
       "      <td>...</td>\n",
       "      <td>-0.666652</td>\n",
       "      <td>-0.963078</td>\n",
       "      <td>-0.002043</td>\n",
       "      <td>0.333333</td>\n",
       "      <td>0.000000</td>\n",
       "      <td>1.003284</td>\n",
       "      <td>1.001235</td>\n",
       "      <td>3.078148</td>\n",
       "      <td>1.000000</td>\n",
       "      <td>0.988636</td>\n",
       "    </tr>\n",
       "  </tbody>\n",
       "</table>\n",
       "<p>6277 rows × 30 columns</p>\n",
       "</div>"
      ],
      "text/plain": [
       "                  mean_acc_x  mean_acc_y  mean_gyro_z  mean_mag_x  mean_mag_y  \\\n",
       "first_id last_id                                                                \n",
       "1.0      50.0      -0.640745   -0.705491    -0.007221    0.668800    0.954146   \n",
       "2.0      51.0      -0.647641   -0.694470    -0.007403    0.672000    0.952683   \n",
       "3.0      52.0      -0.654344   -0.681171    -0.007581    0.675200    0.951220   \n",
       "4.0      53.0      -0.669250   -0.660309    -0.007687    0.676000    0.951707   \n",
       "5.0      54.0      -0.689476   -0.630256    -0.007829    0.676800    0.952195   \n",
       "...                      ...         ...          ...         ...         ...   \n",
       "430.0    479.0     -0.552293   -0.891569    -0.000079    0.637778    0.382222   \n",
       "431.0    480.0     -0.550996   -0.888858    -0.000032    0.644445    0.377778   \n",
       "432.0    481.0     -0.552667   -0.884182    -0.000005    0.648889    0.384444   \n",
       "433.0    482.0     -0.552436   -0.882509     0.000007    0.653334    0.391111   \n",
       "434.0    483.0     -0.554250   -0.883599     0.000022    0.653334    0.386666   \n",
       "\n",
       "                  median_acc_x  median_acc_y  median_gyro_z  median_mag_x  \\\n",
       "first_id last_id                                                            \n",
       "1.0      50.0        -0.543213     -0.600133      -0.000616      0.680000   \n",
       "2.0      51.0        -0.543213     -0.600133      -0.000842      0.680000   \n",
       "3.0      52.0        -0.552770     -0.600133      -0.001136      0.680000   \n",
       "4.0      53.0        -0.569796     -0.600133      -0.001274      0.680000   \n",
       "5.0      54.0        -0.598368     -0.600133      -0.001274      0.680000   \n",
       "...                        ...           ...            ...           ...   \n",
       "430.0    479.0       -0.542936     -0.894916      -0.000063      0.666667   \n",
       "431.0    480.0       -0.541516     -0.894916       0.000012      0.666667   \n",
       "432.0    481.0       -0.541516     -0.893822       0.000012      0.666667   \n",
       "433.0    482.0       -0.541516     -0.893822       0.000012      0.666667   \n",
       "434.0    483.0       -0.541516     -0.894916       0.000012      0.666667   \n",
       "\n",
       "                  median_mag_y  ...  min_val_acc_x  min_val_acc_y  \\\n",
       "first_id last_id                ...                                 \n",
       "1.0      50.0         0.951220  ...      -1.867640      -2.067851   \n",
       "2.0      51.0         0.951220  ...      -1.867640      -2.067851   \n",
       "3.0      52.0         0.951220  ...      -1.867640      -2.067851   \n",
       "4.0      53.0         0.951220  ...      -1.867640      -2.067851   \n",
       "5.0      54.0         0.951220  ...      -1.867640      -2.067851   \n",
       "...                        ...  ...            ...            ...   \n",
       "430.0    479.0        0.444444  ...      -0.666652      -1.127032   \n",
       "431.0    480.0        0.444444  ...      -0.666652      -1.127032   \n",
       "432.0    481.0        0.444444  ...      -0.666652      -1.037134   \n",
       "433.0    482.0        0.444444  ...      -0.666652      -0.963078   \n",
       "434.0    483.0        0.444444  ...      -0.666652      -0.963078   \n",
       "\n",
       "                  min_val_gyro_z  min_val_mag_x  min_val_mag_y  trend_acc_x  \\\n",
       "first_id last_id                                                              \n",
       "1.0      50.0          -0.226494       0.560000       0.878049     1.000000   \n",
       "2.0      51.0          -0.226494       0.560000       0.878049     1.010762   \n",
       "3.0      52.0          -0.226494       0.600000       0.878049     1.010350   \n",
       "4.0      53.0          -0.226494       0.600000       0.878049     1.022781   \n",
       "5.0      54.0          -0.226494       0.600000       0.878049     1.030222   \n",
       "...                          ...            ...            ...          ...   \n",
       "430.0    479.0         -0.002043       0.333333       0.000000     1.000196   \n",
       "431.0    480.0         -0.002043       0.333333       0.000000     0.997653   \n",
       "432.0    481.0         -0.002043       0.333333       0.000000     1.003032   \n",
       "433.0    482.0         -0.002043       0.333333       0.000000     0.999582   \n",
       "434.0    483.0         -0.002043       0.333333       0.000000     1.003284   \n",
       "\n",
       "                  trend_acc_y  trend_gyro_z  trend_mag_x  trend_mag_y  \n",
       "first_id last_id                                                       \n",
       "1.0      50.0        1.000000      1.000000     1.000000     1.000000  \n",
       "2.0      51.0        0.984378      1.025261     1.004785     0.998466  \n",
       "3.0      52.0        0.980850      1.023994     1.004762     0.998464  \n",
       "4.0      53.0        0.969373      1.014000     1.001185     1.000513  \n",
       "5.0      54.0        0.954486      1.018433     1.001183     1.000513  \n",
       "...                       ...           ...          ...          ...  \n",
       "430.0    479.0       1.001681      0.946534     1.010563     0.988506  \n",
       "431.0    480.0       0.996959      0.400440     1.010453     0.988372  \n",
       "432.0    481.0       0.994740      0.166022     1.006897     1.017647  \n",
       "433.0    482.0       0.998108     -1.346381     1.006849     1.017341  \n",
       "434.0    483.0       1.001235      3.078148     1.000000     0.988636  \n",
       "\n",
       "[6277 rows x 30 columns]"
      ]
     },
     "execution_count": 10,
     "metadata": {},
     "output_type": "execute_result"
    }
   ],
   "source": [
    "print(\"Features shape:\", features.shape)\n",
    "print(\"\\nFeatures size for harsh drive event: \", np.where(target == 1)[0].shape)\n",
    "print(\"Features size for safe drive event: \", np.where(target == 0)[0].shape)\n",
    "\n",
    "print(\"\\nSample of features: \")\n",
    "x_df = pd.DataFrame(features, columns=features_names)\n",
    "x_df[[\"first_id\",\"last_id\"]] = ids\n",
    "x_df.set_index([\"first_id\",\"last_id\"], inplace=True)\n",
    "x_df"
   ]
  },
  {
   "attachments": {},
   "cell_type": "markdown",
   "metadata": {},
   "source": [
    "## Machine Learning Process\n",
    "Create the different machine learning models through the sklearn libraries"
   ]
  },
  {
   "cell_type": "code",
   "execution_count": 11,
   "metadata": {},
   "outputs": [
    {
     "name": "stdout",
     "output_type": "stream",
     "text": [
      "Training feature shape: (4393, 30)\n",
      "Training target shape: (4393,)\n",
      "Harsh drive event train feature size:  (394,)\n",
      "Safe drive event train feature size:  (3999,)\n",
      "\n",
      "Testing feature shape: (1884, 30)\n",
      "Testing target shape: (1884,)\n",
      "Harsh drive event test feature size:  (184,)\n",
      "Safe drive event test feature size:  (1700,)\n"
     ]
    }
   ],
   "source": [
    "from sklearn import svm\n",
    "from sklearn import tree\n",
    "from sklearn.ensemble import RandomForestClassifier\n",
    "from sklearn.model_selection import train_test_split\n",
    "\n",
    "# Splitting data in ratio of 70/30, 70% for training and 30% for testing \n",
    "x_train, x_test, y_train, y_test = train_test_split(x_df, target, test_size=0.3, train_size=0.7, random_state=300, shuffle=True)\n",
    "\n",
    "print(\"Training feature shape:\", x_train.shape)\n",
    "print(\"Training target shape:\", y_train.shape)\n",
    "print(\"Harsh drive event train feature size: \", np.where(y_train == 1)[0].shape)\n",
    "print(\"Safe drive event train feature size: \", np.where(y_train == 0)[0].shape)\n",
    "\n",
    "print(\"\\nTesting feature shape:\", x_test.shape)\n",
    "print(\"Testing target shape:\", y_test.shape)\n",
    "print(\"Harsh drive event test feature size: \", np.where(y_test == 1)[0].shape)\n",
    "print(\"Safe drive event test feature size: \", np.where(y_test == 0)[0].shape)"
   ]
  },
  {
   "attachments": {},
   "cell_type": "markdown",
   "metadata": {},
   "source": [
    "### Support Vector Machines"
   ]
  },
  {
   "cell_type": "code",
   "execution_count": 152,
   "metadata": {},
   "outputs": [
    {
     "data": {
      "text/html": [
       "<style>#sk-container-id-15 {color: black;background-color: white;}#sk-container-id-15 pre{padding: 0;}#sk-container-id-15 div.sk-toggleable {background-color: white;}#sk-container-id-15 label.sk-toggleable__label {cursor: pointer;display: block;width: 100%;margin-bottom: 0;padding: 0.3em;box-sizing: border-box;text-align: center;}#sk-container-id-15 label.sk-toggleable__label-arrow:before {content: \"▸\";float: left;margin-right: 0.25em;color: #696969;}#sk-container-id-15 label.sk-toggleable__label-arrow:hover:before {color: black;}#sk-container-id-15 div.sk-estimator:hover label.sk-toggleable__label-arrow:before {color: black;}#sk-container-id-15 div.sk-toggleable__content {max-height: 0;max-width: 0;overflow: hidden;text-align: left;background-color: #f0f8ff;}#sk-container-id-15 div.sk-toggleable__content pre {margin: 0.2em;color: black;border-radius: 0.25em;background-color: #f0f8ff;}#sk-container-id-15 input.sk-toggleable__control:checked~div.sk-toggleable__content {max-height: 200px;max-width: 100%;overflow: auto;}#sk-container-id-15 input.sk-toggleable__control:checked~label.sk-toggleable__label-arrow:before {content: \"▾\";}#sk-container-id-15 div.sk-estimator input.sk-toggleable__control:checked~label.sk-toggleable__label {background-color: #d4ebff;}#sk-container-id-15 div.sk-label input.sk-toggleable__control:checked~label.sk-toggleable__label {background-color: #d4ebff;}#sk-container-id-15 input.sk-hidden--visually {border: 0;clip: rect(1px 1px 1px 1px);clip: rect(1px, 1px, 1px, 1px);height: 1px;margin: -1px;overflow: hidden;padding: 0;position: absolute;width: 1px;}#sk-container-id-15 div.sk-estimator {font-family: monospace;background-color: #f0f8ff;border: 1px dotted black;border-radius: 0.25em;box-sizing: border-box;margin-bottom: 0.5em;}#sk-container-id-15 div.sk-estimator:hover {background-color: #d4ebff;}#sk-container-id-15 div.sk-parallel-item::after {content: \"\";width: 100%;border-bottom: 1px solid gray;flex-grow: 1;}#sk-container-id-15 div.sk-label:hover label.sk-toggleable__label {background-color: #d4ebff;}#sk-container-id-15 div.sk-serial::before {content: \"\";position: absolute;border-left: 1px solid gray;box-sizing: border-box;top: 0;bottom: 0;left: 50%;z-index: 0;}#sk-container-id-15 div.sk-serial {display: flex;flex-direction: column;align-items: center;background-color: white;padding-right: 0.2em;padding-left: 0.2em;position: relative;}#sk-container-id-15 div.sk-item {position: relative;z-index: 1;}#sk-container-id-15 div.sk-parallel {display: flex;align-items: stretch;justify-content: center;background-color: white;position: relative;}#sk-container-id-15 div.sk-item::before, #sk-container-id-15 div.sk-parallel-item::before {content: \"\";position: absolute;border-left: 1px solid gray;box-sizing: border-box;top: 0;bottom: 0;left: 50%;z-index: -1;}#sk-container-id-15 div.sk-parallel-item {display: flex;flex-direction: column;z-index: 1;position: relative;background-color: white;}#sk-container-id-15 div.sk-parallel-item:first-child::after {align-self: flex-end;width: 50%;}#sk-container-id-15 div.sk-parallel-item:last-child::after {align-self: flex-start;width: 50%;}#sk-container-id-15 div.sk-parallel-item:only-child::after {width: 0;}#sk-container-id-15 div.sk-dashed-wrapped {border: 1px dashed gray;margin: 0 0.4em 0.5em 0.4em;box-sizing: border-box;padding-bottom: 0.4em;background-color: white;}#sk-container-id-15 div.sk-label label {font-family: monospace;font-weight: bold;display: inline-block;line-height: 1.2em;}#sk-container-id-15 div.sk-label-container {text-align: center;}#sk-container-id-15 div.sk-container {/* jupyter's `normalize.less` sets `[hidden] { display: none; }` but bootstrap.min.css set `[hidden] { display: none !important; }` so we also need the `!important` here to be able to override the default hidden behavior on the sphinx rendered scikit-learn.org. See: https://github.com/scikit-learn/scikit-learn/issues/21755 */display: inline-block !important;position: relative;}#sk-container-id-15 div.sk-text-repr-fallback {display: none;}</style><div id=\"sk-container-id-15\" class=\"sk-top-container\"><div class=\"sk-text-repr-fallback\"><pre>SVC(C=10, gamma=1, probability=True)</pre><b>In a Jupyter environment, please rerun this cell to show the HTML representation or trust the notebook. <br />On GitHub, the HTML representation is unable to render, please try loading this page with nbviewer.org.</b></div><div class=\"sk-container\" hidden><div class=\"sk-item\"><div class=\"sk-estimator sk-toggleable\"><input class=\"sk-toggleable__control sk-hidden--visually\" id=\"sk-estimator-id-15\" type=\"checkbox\" checked><label for=\"sk-estimator-id-15\" class=\"sk-toggleable__label sk-toggleable__label-arrow\">SVC</label><div class=\"sk-toggleable__content\"><pre>SVC(C=10, gamma=1, probability=True)</pre></div></div></div></div></div>"
      ],
      "text/plain": [
       "SVC(C=10, gamma=1, probability=True)"
      ]
     },
     "execution_count": 152,
     "metadata": {},
     "output_type": "execute_result"
    }
   ],
   "source": [
    "SVM = svm.SVC(C = 10, gamma = 1, kernel = 'rbf', probability = True)\n",
    "SVM.fit(x_train, y_train)"
   ]
  },
  {
   "attachments": {},
   "cell_type": "markdown",
   "metadata": {},
   "source": [
    "### Decision Trees"
   ]
  },
  {
   "cell_type": "code",
   "execution_count": 153,
   "metadata": {},
   "outputs": [
    {
     "name": "stdout",
     "output_type": "stream",
     "text": [
      "7 22\n"
     ]
    }
   ],
   "source": [
    "DT = tree.DecisionTreeClassifier(criterion = \"gini\")\n",
    "DT.fit(x_train, y_train)\n",
    "\n",
    "# print(DT.get_depth(), DT.get_n_leaves())"
   ]
  },
  {
   "attachments": {},
   "cell_type": "markdown",
   "metadata": {},
   "source": [
    "### Random forest"
   ]
  },
  {
   "cell_type": "code",
   "execution_count": 154,
   "metadata": {},
   "outputs": [
    {
     "data": {
      "text/html": [
       "<style>#sk-container-id-16 {color: black;background-color: white;}#sk-container-id-16 pre{padding: 0;}#sk-container-id-16 div.sk-toggleable {background-color: white;}#sk-container-id-16 label.sk-toggleable__label {cursor: pointer;display: block;width: 100%;margin-bottom: 0;padding: 0.3em;box-sizing: border-box;text-align: center;}#sk-container-id-16 label.sk-toggleable__label-arrow:before {content: \"▸\";float: left;margin-right: 0.25em;color: #696969;}#sk-container-id-16 label.sk-toggleable__label-arrow:hover:before {color: black;}#sk-container-id-16 div.sk-estimator:hover label.sk-toggleable__label-arrow:before {color: black;}#sk-container-id-16 div.sk-toggleable__content {max-height: 0;max-width: 0;overflow: hidden;text-align: left;background-color: #f0f8ff;}#sk-container-id-16 div.sk-toggleable__content pre {margin: 0.2em;color: black;border-radius: 0.25em;background-color: #f0f8ff;}#sk-container-id-16 input.sk-toggleable__control:checked~div.sk-toggleable__content {max-height: 200px;max-width: 100%;overflow: auto;}#sk-container-id-16 input.sk-toggleable__control:checked~label.sk-toggleable__label-arrow:before {content: \"▾\";}#sk-container-id-16 div.sk-estimator input.sk-toggleable__control:checked~label.sk-toggleable__label {background-color: #d4ebff;}#sk-container-id-16 div.sk-label input.sk-toggleable__control:checked~label.sk-toggleable__label {background-color: #d4ebff;}#sk-container-id-16 input.sk-hidden--visually {border: 0;clip: rect(1px 1px 1px 1px);clip: rect(1px, 1px, 1px, 1px);height: 1px;margin: -1px;overflow: hidden;padding: 0;position: absolute;width: 1px;}#sk-container-id-16 div.sk-estimator {font-family: monospace;background-color: #f0f8ff;border: 1px dotted black;border-radius: 0.25em;box-sizing: border-box;margin-bottom: 0.5em;}#sk-container-id-16 div.sk-estimator:hover {background-color: #d4ebff;}#sk-container-id-16 div.sk-parallel-item::after {content: \"\";width: 100%;border-bottom: 1px solid gray;flex-grow: 1;}#sk-container-id-16 div.sk-label:hover label.sk-toggleable__label {background-color: #d4ebff;}#sk-container-id-16 div.sk-serial::before {content: \"\";position: absolute;border-left: 1px solid gray;box-sizing: border-box;top: 0;bottom: 0;left: 50%;z-index: 0;}#sk-container-id-16 div.sk-serial {display: flex;flex-direction: column;align-items: center;background-color: white;padding-right: 0.2em;padding-left: 0.2em;position: relative;}#sk-container-id-16 div.sk-item {position: relative;z-index: 1;}#sk-container-id-16 div.sk-parallel {display: flex;align-items: stretch;justify-content: center;background-color: white;position: relative;}#sk-container-id-16 div.sk-item::before, #sk-container-id-16 div.sk-parallel-item::before {content: \"\";position: absolute;border-left: 1px solid gray;box-sizing: border-box;top: 0;bottom: 0;left: 50%;z-index: -1;}#sk-container-id-16 div.sk-parallel-item {display: flex;flex-direction: column;z-index: 1;position: relative;background-color: white;}#sk-container-id-16 div.sk-parallel-item:first-child::after {align-self: flex-end;width: 50%;}#sk-container-id-16 div.sk-parallel-item:last-child::after {align-self: flex-start;width: 50%;}#sk-container-id-16 div.sk-parallel-item:only-child::after {width: 0;}#sk-container-id-16 div.sk-dashed-wrapped {border: 1px dashed gray;margin: 0 0.4em 0.5em 0.4em;box-sizing: border-box;padding-bottom: 0.4em;background-color: white;}#sk-container-id-16 div.sk-label label {font-family: monospace;font-weight: bold;display: inline-block;line-height: 1.2em;}#sk-container-id-16 div.sk-label-container {text-align: center;}#sk-container-id-16 div.sk-container {/* jupyter's `normalize.less` sets `[hidden] { display: none; }` but bootstrap.min.css set `[hidden] { display: none !important; }` so we also need the `!important` here to be able to override the default hidden behavior on the sphinx rendered scikit-learn.org. See: https://github.com/scikit-learn/scikit-learn/issues/21755 */display: inline-block !important;position: relative;}#sk-container-id-16 div.sk-text-repr-fallback {display: none;}</style><div id=\"sk-container-id-16\" class=\"sk-top-container\"><div class=\"sk-text-repr-fallback\"><pre>RandomForestClassifier(n_estimators=300)</pre><b>In a Jupyter environment, please rerun this cell to show the HTML representation or trust the notebook. <br />On GitHub, the HTML representation is unable to render, please try loading this page with nbviewer.org.</b></div><div class=\"sk-container\" hidden><div class=\"sk-item\"><div class=\"sk-estimator sk-toggleable\"><input class=\"sk-toggleable__control sk-hidden--visually\" id=\"sk-estimator-id-16\" type=\"checkbox\" checked><label for=\"sk-estimator-id-16\" class=\"sk-toggleable__label sk-toggleable__label-arrow\">RandomForestClassifier</label><div class=\"sk-toggleable__content\"><pre>RandomForestClassifier(n_estimators=300)</pre></div></div></div></div></div>"
      ],
      "text/plain": [
       "RandomForestClassifier(n_estimators=300)"
      ]
     },
     "execution_count": 154,
     "metadata": {},
     "output_type": "execute_result"
    }
   ],
   "source": [
    "RF = RandomForestClassifier(n_estimators = 300)\n",
    "RF.fit(x_train, y_train)"
   ]
  },
  {
   "attachments": {},
   "cell_type": "markdown",
   "metadata": {},
   "source": [
    "### Plot the important Random forest features"
   ]
  },
  {
   "cell_type": "code",
   "execution_count": 155,
   "metadata": {},
   "outputs": [
    {
     "data": {
      "image/png": "[encoded data removed]",
      "text/plain": [
       "<Figure size 1200x560 with 1 Axes>"
      ]
     },
     "metadata": {},
     "output_type": "display_data"
    }
   ],
   "source": [
    "# Check more significant variables\n",
    "def plot_feature_importances(dt, features_names, top_n=10):\n",
    "    \n",
    "    if len(features_names) < 10 :\n",
    "        \n",
    "        df_features = len(features_names)\n",
    "        plt.barh(range(df_features), dt.feature_importances_)\n",
    "        plt.title(\"Features of Sudden Right turn driving event\")\n",
    "        plt.xlabel(\"Features importance\")\n",
    "        plt.ylabel(\"Features name\")\n",
    "        plt.yticks(np.arange(df_features), features_names)\n",
    "\n",
    "    else:\n",
    "        # Feature importances are provided by the fitted attribute feature_importances_ and they are computed as the mean and standard deviation of accumulation of the impurity decrease within each tree.\n",
    "        \n",
    "        importances = dt.feature_importances_\n",
    "        # get indices of top n features\n",
    "        indices = np.argsort(importances)[::-1][:top_n] \n",
    "        plt.barh(range(top_n), importances[indices])\n",
    "        plt.title(\"Features of Sudden Right turn driving event\")\n",
    "        plt.xlabel(\"Features importance\")\n",
    "        plt.ylabel(\"Features name\")\n",
    "        plt.yticks(range(top_n), np.array(features_names)[indices])\n",
    "\n",
    "plt.figure(figsize = (15,7), dpi = 80)\n",
    "# Out of all features plot only 6 significant features\n",
    "plot_feature_importances(RF, features_names, top_n=10)\n",
    "plt.show()\n"
   ]
  },
  {
   "attachments": {},
   "cell_type": "markdown",
   "metadata": {},
   "source": [
    "### Test ML algorithm\n",
    "\n",
    "* Accuracy = TP + TN / (TP + TN + FP + FN)\n",
    "* Precision = TP / (TP + FP)\n",
    "* Recall = TP / (TP + FN)  Also known as sensitivity, or True Positive Rate\n",
    "* f1 = 2 * Precision * Recall / (Precision + Recall)\n"
   ]
  },
  {
   "cell_type": "code",
   "execution_count": 156,
   "metadata": {},
   "outputs": [
    {
     "name": "stdout",
     "output_type": "stream",
     "text": [
      "\n",
      "Classifier Name:  SVC\n",
      "Accuracy: 0.99\n",
      "Precision: 1.00\n",
      "Recall: 0.93\n",
      "F1: 0.97\n",
      "AUC: 1.00\n",
      "Count total data predicted: Harsh Drive = 172, Safe Drive = 1712\n",
      "\n",
      "Classifier Name:  DecisionTreeClassifier\n",
      "Accuracy: 1.00\n",
      "Precision: 0.99\n",
      "Recall: 0.98\n",
      "F1: 0.99\n",
      "AUC: 0.99\n",
      "Count total data predicted: Harsh Drive = 182, Safe Drive = 1702\n",
      "\n",
      "Classifier Name:  RandomForestClassifier\n",
      "Accuracy: 1.00\n",
      "Precision: 0.99\n",
      "Recall: 0.99\n",
      "F1: 0.99\n",
      "AUC: 1.00\n",
      "Count total data predicted: Harsh Drive = 184, Safe Drive = 1700\n"
     ]
    }
   ],
   "source": [
    "from sklearn.metrics import accuracy_score, precision_score, recall_score, f1_score, roc_auc_score\n",
    "from collections import Counter\n",
    "\n",
    "for model in (SVM, DT, RF):\n",
    "    prediction = model.predict(x_test)\n",
    "    prediction_proba = model.predict_proba(x_test)[:,1]\n",
    "    # print(prediction_proba)\n",
    "    print(\"\\nClassifier Name: \",model.__class__.__name__)\n",
    "    print('Accuracy: {:.2f}'.format(accuracy_score(y_test, prediction)))\n",
    "    print('Precision: {:.2f}'.format(precision_score(y_test, prediction)))\n",
    "    print('Recall: {:.2f}'.format(recall_score(y_test, prediction)))\n",
    "    print('F1: {:.2f}'.format(f1_score(y_test, prediction)))\n",
    "    print('AUC: {:.2f}'.format(roc_auc_score(y_test, prediction_proba)))\n",
    "    print(\"Count total data predicted: Harsh Drive = {}, Safe Drive = {}\".format(Counter(prediction)[1], Counter(prediction)[0]))"
   ]
  },
  {
   "attachments": {},
   "cell_type": "markdown",
   "metadata": {},
   "source": [
    "### Confusion matrix"
   ]
  },
  {
   "cell_type": "code",
   "execution_count": 44,
   "metadata": {},
   "outputs": [
    {
     "name": "stdout",
     "output_type": "stream",
     "text": [
      "\n",
      "Classifier Name:  SVC\n"
     ]
    },
    {
     "data": {
      "image/png": "[encoded data removed]",
      "text/plain": [
       "<Figure size 640x480 with 2 Axes>"
      ]
     },
     "metadata": {},
     "output_type": "display_data"
    },
    {
     "name": "stdout",
     "output_type": "stream",
     "text": [
      "\n",
      "Classifier Name:  DecisionTreeClassifier\n"
     ]
    },
    {
     "data": {
      "image/png": "[encoded data removed]",
      "text/plain": [
       "<Figure size 640x480 with 2 Axes>"
      ]
     },
     "metadata": {},
     "output_type": "display_data"
    },
    {
     "name": "stdout",
     "output_type": "stream",
     "text": [
      "\n",
      "Classifier Name:  RandomForestClassifier\n"
     ]
    },
    {
     "data": {
      "image/png": "[encoded data removed]",
      "text/plain": [
       "<Figure size 640x480 with 2 Axes>"
      ]
     },
     "metadata": {},
     "output_type": "display_data"
    }
   ],
   "source": [
    "from sklearn.metrics import confusion_matrix\n",
    "import matplotlib.pyplot as plt\n",
    "from sklearn.metrics import ConfusionMatrixDisplay\n",
    "\n",
    "for model in (SVM, DT, RF):\n",
    "    print(\"\\nClassifier Name: \",model.__class__.__name__)\n",
    "    head = model.__class__.__name__\n",
    "    prediction = model.predict(x_test)\n",
    "    cf_matrix = confusion_matrix(y_test, prediction)\n",
    "    # print(y_validation, prediction)\n",
    "    display = ConfusionMatrixDisplay(cf_matrix)\n",
    "    display.plot()\n",
    "    plt.title(head)\n",
    "    plt.show()"
   ]
  },
  {
   "attachments": {},
   "cell_type": "markdown",
   "metadata": {},
   "source": [
    "### Roc curves and Area Under Curve (AUC)"
   ]
  },
  {
   "cell_type": "code",
   "execution_count": 45,
   "metadata": {},
   "outputs": [],
   "source": [
    "from sklearn.metrics import roc_curve, auc\n",
    "\n",
    "def plot_roc_curve(model, x_test, y_test):\n",
    "    \"\"\"Make a roc curve graph\n",
    "\n",
    "    Args:\n",
    "        clf (sklearn clf): The classifier to plot\n",
    "        x_test (np.array): X test data\n",
    "        y_test (np.array): Y test data\n",
    "    \"\"\"\n",
    "    model_name = \"\".join(c for c in model.__class__.__name__ if c.isupper())\n",
    "    y_score = model.predict_proba(x_test)[:,1]\n",
    "    fpr, tpr, _ = roc_curve(y_test, y_score)\n",
    "    # print(\"False positive rate: {}, True positive rate: {}\".format(fpr, tpr))\n",
    "    roc_auc = auc(fpr, tpr)\n",
    "    accuracy = model.score(x_test, y_test)\n",
    "    plt.plot(fpr, tpr, lw = 2, alpha = 0.7, label = 'Algorithm {} (accuracy = {:.2f}, area = {:.2f})'.format(model_name, accuracy, roc_auc))"
   ]
  },
  {
   "cell_type": "code",
   "execution_count": 46,
   "metadata": {},
   "outputs": [
    {
     "data": {
      "image/png": "[encoded data removed]",
      "text/plain": [
       "<Figure size 640x480 with 1 Axes>"
      ]
     },
     "metadata": {},
     "output_type": "display_data"
    }
   ],
   "source": [
    "plt.figure()\n",
    "plt.xlim([-0.01, 1.00])\n",
    "plt.ylim([-0.01, 1.01])\n",
    "\n",
    "for model in (SVM, DT, RF):\n",
    "    plot_roc_curve(model, x_test, y_test)\n",
    "\n",
    "plt.xlabel('False Positive Rate')\n",
    "plt.ylabel('True Positive Rate (Recall)')\n",
    "plt.plot([0, 1], [0, 1], color = 'k', lw = 0.5, linestyle = '--')\n",
    "plt.legend(loc = \"lower right\")\n",
    "plt.title('ROC curve')\n",
    "plt.show()"
   ]
  },
  {
   "attachments": {},
   "cell_type": "markdown",
   "metadata": {},
   "source": [
    "### Classifier optimization process"
   ]
  },
  {
   "cell_type": "code",
   "execution_count": 47,
   "metadata": {},
   "outputs": [
    {
     "name": "stdout",
     "output_type": "stream",
     "text": [
      "\n",
      "Parameters SVM:  {'C': 10, 'break_ties': False, 'cache_size': 200, 'class_weight': None, 'coef0': 0.0, 'decision_function_shape': 'ovr', 'degree': 3, 'gamma': 1, 'kernel': 'rbf', 'max_iter': -1, 'probability': True, 'random_state': None, 'shrinking': True, 'tol': 0.001, 'verbose': False}\n",
      "\n",
      "Parameters DT:  {'ccp_alpha': 0.0, 'class_weight': None, 'criterion': 'gini', 'max_depth': None, 'max_features': None, 'max_leaf_nodes': None, 'min_impurity_decrease': 0.0, 'min_samples_leaf': 1, 'min_samples_split': 2, 'min_weight_fraction_leaf': 0.0, 'random_state': None, 'splitter': 'best'}\n",
      "\n",
      "Parameters RF:  {'bootstrap': True, 'ccp_alpha': 0.0, 'class_weight': None, 'criterion': 'gini', 'max_depth': None, 'max_features': 'sqrt', 'max_leaf_nodes': None, 'max_samples': None, 'min_impurity_decrease': 0.0, 'min_samples_leaf': 1, 'min_samples_split': 2, 'min_weight_fraction_leaf': 0.0, 'n_estimators': 300, 'n_jobs': None, 'oob_score': False, 'random_state': None, 'verbose': 0, 'warm_start': False}\n"
     ]
    }
   ],
   "source": [
    "print(\"\\nParameters SVM: \", SVM.get_params())\n",
    "print(\"\\nParameters DT: \", DT.get_params())\n",
    "print(\"\\nParameters RF: \", RF.get_params())"
   ]
  },
  {
   "cell_type": "code",
   "execution_count": 102,
   "metadata": {},
   "outputs": [
    {
     "name": "stdout",
     "output_type": "stream",
     "text": [
      "\n",
      "\n",
      "Best parameter (max. f1): {'class_weight': None, 'max_samples': None, 'n_estimators': 300}\n",
      "Best score (f1): 0.98\n",
      "\n",
      "\n",
      "Best parameter (max. precision): {'class_weight': 'balanced', 'max_samples': 0.9, 'n_estimators': 100}\n",
      "Best score (precision): 0.99\n",
      "\n",
      "\n",
      "Best parameter (max. recall): {'class_weight': None, 'max_samples': None, 'n_estimators': 200}\n",
      "Best score (recall): 0.98\n",
      "\n",
      "\n",
      "Best parameter (max. roc_auc): {'class_weight': 'balanced', 'max_samples': None, 'n_estimators': 300}\n",
      "Best score (roc_auc): 1.00\n"
     ]
    }
   ],
   "source": [
    "from sklearn.model_selection import GridSearchCV\n",
    "from sklearn.model_selection import KFold, StratifiedKFold, ShuffleSplit, StratifiedShuffleSplit\n",
    "\n",
    "x_train, x_test, y_train, y_test = train_test_split(x_df, target, test_size = 0.3, train_size = 0.7, random_state = 160, shuffle = True)\n",
    "# TODO: Uncomment the classifier to process\n",
    "# model = svm.SVC(kernel = 'rbf')\n",
    "# model = tree.DecisionTreeClassifier(criterion = \"gini\")\n",
    "model = RandomForestClassifier(n_jobs=2)\n",
    "\n",
    "split = KFold(n_splits = 5, shuffle = True, random_state = 320)\n",
    "\n",
    "# TODO: Uncomment the grid value according to the classifier\n",
    "# grid_values = {'C': [0.01, 0.05, 0.1, 1, 10, 100, 1000], 'gamma': [0.001, 0.005, 0.01, 0.05, 0.1, 1, 10], 'class_weight': [None, 'balanced']} # SVM case\n",
    "# grid_values = {'max_depth':[2,3,4,5,6,7,8,9,10], 'max_leaf_nodes': [5,6,10,15,20,25,30,40,50,60], 'class_weight': [None, 'balanced']} # DT case\n",
    "grid_values = {'max_samples':[0.9, 0.95, None], 'n_estimators': [100, 200, 300], 'class_weight': [None, 'balanced']} # RF case\n",
    "\n",
    "scores = ['f1', 'precision', 'recall', 'roc_auc']\n",
    "for score in scores:\n",
    "    grid_model = GridSearchCV(model, param_grid = grid_values, cv = split, scoring = score)\n",
    "    grid_model.fit(x_df, target)\n",
    "    print('\\n\\nBest parameter (max. {}): {}'.format(score, grid_model.best_params_))\n",
    "    print('Best score ({}): {:.2f}'.format(score, grid_model.best_score_))\n"
   ]
  },
  {
   "attachments": {},
   "cell_type": "markdown",
   "metadata": {},
   "source": [
    "### Evaluate the performance of the optimized classifier"
   ]
  },
  {
   "cell_type": "code",
   "execution_count": 157,
   "metadata": {},
   "outputs": [
    {
     "name": "stdout",
     "output_type": "stream",
     "text": [
      "\n",
      "Estimator:  RandomForestClassifier\n",
      "Cross-validation (accuracy) 0.999\n",
      "Cross-validation (F1) 0.993\n",
      "Cross-validation (precision) 0.995\n",
      "Cross-validation (recall) 0.991\n",
      "Cross-validation (AUC) 1.000\n"
     ]
    }
   ],
   "source": [
    "# TODO: Uncomment the classifier to check\n",
    "# model = svm.SVC(C= 100, gamma= 0.01, kernel='rbf', probability=True) \n",
    "# model = tree.DecisionTreeClassifier(criterion = \"gini\", class_weight=None, max_depth=4, max_leaf_nodes=30)\n",
    "model = RandomForestClassifier(n_jobs=2, class_weight=None, max_samples=None, n_estimators=300)\n",
    "\n",
    "cv = KFold(n_splits=5, shuffle=True, random_state=320)\n",
    "# cv = StratifiedKFold(n_splits=5, shuffle=True, random_state=150)\n",
    "# cv = ShuffleSplit(n_splits=5, test_size=0.3, random_state=5) \n",
    "# cv = StratifiedShuffleSplit(n_splits=5)\n",
    "\n",
    "print(\"\\nEstimator: \",model.__class__.__name__)\n",
    "print('Cross-validation (accuracy)', \"%.3f\" %cross_val_score(model, x_df, target, cv=cv).mean())\n",
    "print('Cross-validation (F1)', \"%.3f\" %cross_val_score(model, x_df, target, cv=cv, scoring = 'f1').mean())\n",
    "print('Cross-validation (precision)', \"%.3f\" %cross_val_score(model, x_df, target, cv=cv, scoring = 'precision').mean())\n",
    "print('Cross-validation (recall)', \"%.3f\" %cross_val_score(model, x_df, target, cv=cv, scoring = 'recall').mean())\n",
    "print('Cross-validation (AUC)', \"%.3f\" %cross_val_score(model, x_df, target, cv=cv, scoring = 'roc_auc').mean())"
   ]
  },
  {
   "cell_type": "code",
   "execution_count": 158,
   "metadata": {},
   "outputs": [],
   "source": [
    "model.fit(x_train, y_train)\n",
    "prediction = model.predict(x_test)\n",
    "prediction_proba = model.predict_proba(x_test)"
   ]
  },
  {
   "cell_type": "code",
   "execution_count": 159,
   "metadata": {},
   "outputs": [
    {
     "name": "stdout",
     "output_type": "stream",
     "text": [
      "              precision    recall  f1-score   support\n",
      "\n",
      "  Safe Drive       1.00      1.00      1.00      1700\n",
      " Harsh Drive       0.99      0.99      0.99       184\n",
      "\n",
      "    accuracy                           1.00      1884\n",
      "   macro avg       1.00      1.00      1.00      1884\n",
      "weighted avg       1.00      1.00      1.00      1884\n",
      "\n"
     ]
    }
   ],
   "source": [
    "from sklearn.metrics import classification_report\n",
    "\n",
    "print(classification_report(y_test, prediction, target_names=['Safe Drive', 'Harsh Drive']))"
   ]
  },
  {
   "attachments": {},
   "cell_type": "markdown",
   "metadata": {},
   "source": [
    "## Generate ML model\n",
    "To generate the model, the optimized parameters of the classifier and the optimization performance scores file were taken as a basis.\n",
    "\n",
    "The total number of models generated was 6, due to each of the driving events carried out."
   ]
  },
  {
   "cell_type": "code",
   "execution_count": 160,
   "metadata": {},
   "outputs": [
    {
     "data": {
      "text/plain": [
       "['model_sudden_right_turn.joblib']"
      ]
     },
     "execution_count": 160,
     "metadata": {},
     "output_type": "execute_result"
    }
   ],
   "source": [
    "from joblib import dump\n",
    "model_name = 'model_sudden_right_turn'\n",
    "dump(model, str(model_name+'.joblib'))"
   ]
  }
 ],
 "metadata": {
  "kernelspec": {
   "display_name": "Python 3",
   "language": "python",
   "name": "python3"
  },
  "language_info": {
   "codemirror_mode": {
    "name": "ipython",
    "version": 3
   },
   "file_extension": ".py",
   "mimetype": "text/x-python",
   "name": "python",
   "nbconvert_exporter": "python",
   "pygments_lexer": "ipython3",
   "version": "3.10.5"
  },
  "orig_nbformat": 4
 },
 "nbformat": 4,
 "nbformat_minor": 2
}
